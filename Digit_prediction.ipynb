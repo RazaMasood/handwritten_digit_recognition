{
 "cells": [
  {
   "attachments": {},
   "cell_type": "markdown",
   "id": "3cbe5ed5",
   "metadata": {},
   "source": [
    "### Importing libraries"
   ]
  },
  {
   "cell_type": "code",
   "execution_count": 21,
   "id": "e7393319",
   "metadata": {},
   "outputs": [],
   "source": [
    "import matplotlib\n",
    "import matplotlib.pyplot as plt\n",
    "import numpy as np\n",
    "import pandas as pd\n",
    "from tensorflow.keras.preprocessing.image import img_to_array\n",
    "from keras.preprocessing import image\n",
    "import tensorflow.keras.utils as tku\n",
    "from tensorflow.keras.preprocessing.image import ImageDataGenerator\n",
    "import tensorflow as tf\n",
    "from PIL import Image\n",
    "import cv2"
   ]
  },
  {
   "attachments": {},
   "cell_type": "markdown",
   "id": "f633a4a0",
   "metadata": {},
   "source": [
    "### Load the training set"
   ]
  },
  {
   "cell_type": "code",
   "execution_count": 4,
   "id": "818484af",
   "metadata": {},
   "outputs": [
    {
     "name": "stdout",
     "output_type": "stream",
     "text": [
      "Found 37340 images belonging to 10 classes.\n"
     ]
    }
   ],
   "source": [
    "train_datagen = ImageDataGenerator(rescale = 1./255,\n",
    "                                   shear_range = 0.2,\n",
    "                                   zoom_range = 0.2,\n",
    "                                   horizontal_flip = True)\n",
    "training_set = train_datagen.flow_from_directory(r\"C:\\Users\\HOME\\Desktop\\MNIST\\training_set\",\n",
    "                                                 target_size = (28, 28),\n",
    "                                                 batch_size = 32,\n",
    "                                                 class_mode = 'categorical')"
   ]
  },
  {
   "attachments": {},
   "cell_type": "markdown",
   "id": "cca6ac01",
   "metadata": {},
   "source": [
    "### Load the test set"
   ]
  },
  {
   "cell_type": "code",
   "execution_count": 5,
   "id": "8c6481ba",
   "metadata": {},
   "outputs": [
    {
     "name": "stdout",
     "output_type": "stream",
     "text": [
      "Found 4660 images belonging to 10 classes.\n"
     ]
    }
   ],
   "source": [
    "train_datagen = ImageDataGenerator(rescale = 1./255,\n",
    "                                   shear_range = 0.2,\n",
    "                                   zoom_range = 0.2,\n",
    "                                   horizontal_flip = True)\n",
    "test_set = train_datagen.flow_from_directory(r\"C:\\Users\\HOME\\Desktop\\MNIST\\test_set\",\n",
    "                                                 target_size = (28, 28),\n",
    "                                                 batch_size = 32,\n",
    "                                                 class_mode = 'categorical')"
   ]
  },
  {
   "attachments": {},
   "cell_type": "markdown",
   "id": "05db328f",
   "metadata": {},
   "source": [
    "### Define the CNN architecture"
   ]
  },
  {
   "cell_type": "code",
   "execution_count": 6,
   "id": "430bd38d",
   "metadata": {},
   "outputs": [],
   "source": [
    "cnn = tf.keras.models.Sequential()"
   ]
  },
  {
   "cell_type": "code",
   "execution_count": 7,
   "id": "45bd5470",
   "metadata": {},
   "outputs": [],
   "source": [
    "cnn.add(tf.keras.layers.Conv2D(filters=32, kernel_size=3, activation='relu', input_shape=[28, 28, 3]))"
   ]
  },
  {
   "cell_type": "code",
   "execution_count": 8,
   "id": "324ddee6",
   "metadata": {},
   "outputs": [],
   "source": [
    "cnn.add(tf.keras.layers.MaxPool2D(pool_size=2, strides=2))"
   ]
  },
  {
   "cell_type": "code",
   "execution_count": 9,
   "id": "9015d18d",
   "metadata": {},
   "outputs": [],
   "source": [
    "cnn.add(tf.keras.layers.Conv2D(filters=32, kernel_size=3, activation='relu'))\n",
    "cnn.add(tf.keras.layers.MaxPool2D(pool_size=2, strides=2))"
   ]
  },
  {
   "cell_type": "code",
   "execution_count": 10,
   "id": "6335e5f7",
   "metadata": {},
   "outputs": [],
   "source": [
    "cnn.add(tf.keras.layers.Flatten())"
   ]
  },
  {
   "cell_type": "code",
   "execution_count": 11,
   "id": "b211e330",
   "metadata": {},
   "outputs": [],
   "source": [
    "cnn.add(tf.keras.layers.Dense(units=64, activation='relu'))"
   ]
  },
  {
   "cell_type": "code",
   "execution_count": 12,
   "id": "fb4cfb3a",
   "metadata": {},
   "outputs": [],
   "source": [
    "cnn.add(tf.keras.layers.Dense(units=10, activation='softmax'))"
   ]
  },
  {
   "attachments": {},
   "cell_type": "markdown",
   "id": "7c7acf84",
   "metadata": {},
   "source": [
    "### Compile the CNN"
   ]
  },
  {
   "cell_type": "code",
   "execution_count": 13,
   "id": "32eae63e",
   "metadata": {},
   "outputs": [],
   "source": [
    "cnn.compile(optimizer = 'adam', loss = 'categorical_crossentropy', metrics = ['accuracy'])"
   ]
  },
  {
   "attachments": {},
   "cell_type": "markdown",
   "id": "20c8a7af",
   "metadata": {},
   "source": [
    "### Train the CNN"
   ]
  },
  {
   "cell_type": "code",
   "execution_count": 15,
   "id": "27f0c5b6",
   "metadata": {},
   "outputs": [
    {
     "name": "stdout",
     "output_type": "stream",
     "text": [
      "Epoch 1/20\n",
      "1167/1167 [==============================] - 246s 211ms/step - loss: 0.2526 - accuracy: 0.9195 - val_loss: 0.1378 - val_accuracy: 0.9567\n",
      "Epoch 2/20\n",
      "1167/1167 [==============================] - 83s 71ms/step - loss: 0.1333 - accuracy: 0.9588 - val_loss: 0.1061 - val_accuracy: 0.9685\n",
      "Epoch 3/20\n",
      "1167/1167 [==============================] - 85s 73ms/step - loss: 0.0972 - accuracy: 0.9691 - val_loss: 0.0807 - val_accuracy: 0.9753\n",
      "Epoch 4/20\n",
      "1167/1167 [==============================] - 85s 73ms/step - loss: 0.0816 - accuracy: 0.9741 - val_loss: 0.0806 - val_accuracy: 0.9751\n",
      "Epoch 5/20\n",
      "1167/1167 [==============================] - 81s 69ms/step - loss: 0.0702 - accuracy: 0.9780 - val_loss: 0.0698 - val_accuracy: 0.9760\n",
      "Epoch 6/20\n",
      "1167/1167 [==============================] - 81s 69ms/step - loss: 0.0622 - accuracy: 0.9802 - val_loss: 0.0600 - val_accuracy: 0.9790\n",
      "Epoch 7/20\n",
      "1167/1167 [==============================] - 84s 72ms/step - loss: 0.0567 - accuracy: 0.9815 - val_loss: 0.0625 - val_accuracy: 0.9820\n",
      "Epoch 8/20\n",
      "1167/1167 [==============================] - 84s 72ms/step - loss: 0.0527 - accuracy: 0.9833 - val_loss: 0.0535 - val_accuracy: 0.9822\n",
      "Epoch 9/20\n",
      "1167/1167 [==============================] - 84s 72ms/step - loss: 0.0482 - accuracy: 0.9850 - val_loss: 0.0558 - val_accuracy: 0.9833\n",
      "Epoch 10/20\n",
      "1167/1167 [==============================] - 85s 73ms/step - loss: 0.0454 - accuracy: 0.9852 - val_loss: 0.0551 - val_accuracy: 0.9826\n",
      "Epoch 11/20\n",
      "1167/1167 [==============================] - 85s 73ms/step - loss: 0.0441 - accuracy: 0.9858 - val_loss: 0.0581 - val_accuracy: 0.9803\n",
      "Epoch 12/20\n",
      "1167/1167 [==============================] - 86s 74ms/step - loss: 0.0416 - accuracy: 0.9867 - val_loss: 0.0538 - val_accuracy: 0.9839\n",
      "Epoch 13/20\n",
      "1167/1167 [==============================] - 88s 75ms/step - loss: 0.0390 - accuracy: 0.9877 - val_loss: 0.0558 - val_accuracy: 0.9826\n",
      "Epoch 14/20\n",
      "1167/1167 [==============================] - 90s 77ms/step - loss: 0.0385 - accuracy: 0.9879 - val_loss: 0.0595 - val_accuracy: 0.9815\n",
      "Epoch 15/20\n",
      "1167/1167 [==============================] - 82s 70ms/step - loss: 0.0344 - accuracy: 0.9885 - val_loss: 0.0568 - val_accuracy: 0.9818\n",
      "Epoch 16/20\n",
      "1167/1167 [==============================] - 81s 69ms/step - loss: 0.0357 - accuracy: 0.9881 - val_loss: 0.0511 - val_accuracy: 0.9865\n",
      "Epoch 17/20\n",
      "1167/1167 [==============================] - 82s 70ms/step - loss: 0.0346 - accuracy: 0.9889 - val_loss: 0.0599 - val_accuracy: 0.9811\n",
      "Epoch 18/20\n",
      "1167/1167 [==============================] - 82s 70ms/step - loss: 0.0324 - accuracy: 0.9897 - val_loss: 0.0484 - val_accuracy: 0.9843\n",
      "Epoch 19/20\n",
      "1167/1167 [==============================] - 81s 69ms/step - loss: 0.0296 - accuracy: 0.9903 - val_loss: 0.0576 - val_accuracy: 0.9820\n",
      "Epoch 20/20\n",
      "1167/1167 [==============================] - 81s 69ms/step - loss: 0.0291 - accuracy: 0.9905 - val_loss: 0.0575 - val_accuracy: 0.9811\n"
     ]
    }
   ],
   "source": [
    "model = cnn.fit(x = training_set, validation_data = test_set, epochs = 20)"
   ]
  },
  {
   "attachments": {},
   "cell_type": "markdown",
   "id": "93ac4536",
   "metadata": {},
   "source": [
    "### Test the CNN on a single image"
   ]
  },
  {
   "cell_type": "code",
   "execution_count": 23,
   "id": "98b2a2fb",
   "metadata": {},
   "outputs": [
    {
     "name": "stdout",
     "output_type": "stream",
     "text": [
      "1/1 [==============================] - 0s 495ms/step\n"
     ]
    }
   ],
   "source": [
    "test_image = cv2.imread(r\"C:\\Users\\HOME\\Desktop\\MNIST\\single_prediction\\img_24.jpg\")\n",
    "test_image = cv2.resize(test_image, (28, 28))\n",
    "test_image = Image.fromarray(test_image)\n",
    "test_image = img_to_array(test_image)\n",
    "test_image = np.expand_dims(test_image, axis=0)\n",
    "results = cnn.predict(test_image)"
   ]
  },
  {
   "attachments": {},
   "cell_type": "markdown",
   "id": "f4b91434",
   "metadata": {},
   "source": [
    "### Print the prediction"
   ]
  },
  {
   "cell_type": "code",
   "execution_count": 24,
   "id": "6a06611f",
   "metadata": {},
   "outputs": [],
   "source": [
    "if results[0][0] == 1:\n",
    "  prediction = 'Zero'\n",
    "elif results[0][1] == 1:\n",
    "  prediction = 'One'\n",
    "elif results[0][2] == 1:\n",
    "  prediction = 'Two'\n",
    "elif results[0][3] == 1:\n",
    "  prediction = 'Three'\n",
    "elif results[0][4] == 1:\n",
    "  prediction = 'Four'\n",
    "elif results[0][5] == 1:\n",
    "  prediction = 'Five'\n",
    "elif results[0][6] == 1:\n",
    "  prediction = 'Six'\n",
    "elif results[0][7] == 1:\n",
    "  prediction = 'Seven'\n",
    "elif results[0][8] == 1:\n",
    "  prediction = 'Eight'\n",
    "else:\n",
    "  prediction = 'Nine'"
   ]
  },
  {
   "cell_type": "code",
   "execution_count": 25,
   "id": "58393755",
   "metadata": {},
   "outputs": [
    {
     "name": "stdout",
     "output_type": "stream",
     "text": [
      "[[0. 0. 0. 0. 0. 1. 0. 0. 0. 0.]]\n",
      "Five\n"
     ]
    }
   ],
   "source": [
    "print(results)\n",
    "print(prediction)"
   ]
  }
 ],
 "metadata": {
  "kernelspec": {
   "display_name": "Python 3 (ipykernel)",
   "language": "python",
   "name": "python3"
  },
  "language_info": {
   "codemirror_mode": {
    "name": "ipython",
    "version": 3
   },
   "file_extension": ".py",
   "mimetype": "text/x-python",
   "name": "python",
   "nbconvert_exporter": "python",
   "pygments_lexer": "ipython3",
   "version": "3.11.1"
  }
 },
 "nbformat": 4,
 "nbformat_minor": 5
}
